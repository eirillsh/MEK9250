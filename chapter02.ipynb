{
 "cells": [
  {
   "cell_type": "markdown",
   "id": "ef02082b",
   "metadata": {},
   "source": [
    "# Crash course in Sobolev Spaces"
   ]
  },
  {
   "cell_type": "code",
   "execution_count": 1,
   "id": "ab26e7a6",
   "metadata": {},
   "outputs": [],
   "source": [
    "%matplotlib inline\n",
    "import dolfin as df\n",
    "import sympy as sp\n",
    "import numpy as np\n",
    "import matplotlib.pyplot as plt\n",
    "\n",
    "from utils import x, y, z\n",
    "import utils\n",
    "\n",
    "df.set_log_level(30)"
   ]
  },
  {
   "cell_type": "markdown",
   "id": "e217dbec",
   "metadata": {},
   "source": [
    "## Exercise 1\n",
    "\n",
    "The $L^2$ norm of $u$ is given by\n",
    "\n",
    "$$\n",
    "    ||u||_{L^2} = \\left( \\int_\\Omega |u|^2 \\,\\mathrm{d} x \\right)^{1/2} .\n",
    "$$\n",
    "\n",
    "Implementation of a $L^2$-norm:"
   ]
  },
  {
   "cell_type": "code",
   "execution_count": 2,
   "id": "e4a4a3d0",
   "metadata": {},
   "outputs": [],
   "source": [
    "# %load -s L2_norm utils.py\n",
    "def L2_norm(u):\n",
    "    f = u*u\n",
    "    I = df.assemble(f*df.dx)\n",
    "    return df.sqrt(I)\n"
   ]
  },
  {
   "cell_type": "markdown",
   "id": "86543915",
   "metadata": {},
   "source": [
    "The $H^1$ norm of $u$ is given by\n",
    "\n",
    "$$\n",
    "    ||u||_{2, 1} = \\left( \\int_\\Omega |u|^2 + |\\nabla u|^2 \\,\\mathrm{d} x \\right)^{1/2} .\n",
    "$$\n",
    "\n",
    "Implementation of a $H^1$-norm:"
   ]
  },
  {
   "cell_type": "code",
   "execution_count": 3,
   "id": "e046362a",
   "metadata": {},
   "outputs": [],
   "source": [
    "# %load -s H1_norm utils.py\n",
    "def H1_norm(u):\n",
    "    f = u*u + df.inner(df.grad(u), df.grad(u))\n",
    "    I = df.assemble(f*df.dx)\n",
    "    return df.sqrt(I)\n"
   ]
  },
  {
   "cell_type": "markdown",
   "id": "72e4cb4c",
   "metadata": {},
   "source": [
    "Using the function\n",
    "\n",
    "$$\n",
    "    \\psi(x) = \\sqrt{2}\\cos(\\pi x),\n",
    "$$\n",
    "which is normalized on the unit interval.\n",
    "\n",
    "The $H^1$ norm is in this case should be\n",
    "\n",
    "$$\n",
    "    ||\\psi||_{2, 1} = \\sqrt{1 + \\pi^2} .\n",
    "$$\n",
    "\n",
    "This is approximately"
   ]
  },
  {
   "cell_type": "code",
   "execution_count": 4,
   "id": "4fca451d",
   "metadata": {},
   "outputs": [
    {
     "name": "stdout",
     "output_type": "stream",
     "text": [
      "H1 should be 3.29691\n"
     ]
    }
   ],
   "source": [
    "print(f\"H1 should be {float(sp.sqrt(1 + sp.pi**2)):.6g}\")"
   ]
  },
  {
   "cell_type": "markdown",
   "id": "54e04752",
   "metadata": {},
   "source": [
    "Using the numerical functions:"
   ]
  },
  {
   "cell_type": "code",
   "execution_count": 5,
   "id": "cf11a30e",
   "metadata": {},
   "outputs": [
    {
     "name": "stdout",
     "output_type": "stream",
     "text": [
      "N is   10 ->  L2: 0.9918 & H1:  3.282\n",
      "N is  100 ->  L2: 0.9999 & H1:  3.297\n",
      "N is 1000 ->  L2:      1 & H1:  3.297\n"
     ]
    }
   ],
   "source": [
    "f = utils.to_expression(sp.sqrt(2)*sp.cos(sp.pi*x))\n",
    "\n",
    "for N in (10, 100, 1000):\n",
    "    mesh = df.UnitIntervalMesh(N)\n",
    "    V = df.FunctionSpace(mesh, \"Lagrange\", 1)\n",
    "    u = df.interpolate(f, V)\n",
    "    print(f\"N is {N:4d} ->  L2: {L2_norm(u):6.4g} & H1: {H1_norm(u):6.4g}\")"
   ]
  },
  {
   "cell_type": "markdown",
   "id": "dec19111",
   "metadata": {},
   "source": [
    "## Exercise 2\n",
    "\n",
    "Now using\n",
    "\n",
    "$$\n",
    "    \\psi(x) = \\sin(k \\pi x) .\n",
    "$$\n",
    "\n",
    "The $L^2$ norm is then\n",
    "$$\n",
    "    ||\\psi||_{L^2} = \\frac{1}{\\sqrt{2}} ,\n",
    "$$\n",
    "\n",
    "and the $H_1$ is\n",
    "\n",
    "$$\n",
    "    ||\\psi||_{2, 1} = \\frac{k \\pi}{\\sqrt{2}}.\n",
    "$$\n",
    "\n",
    "For $k = 1, 10, 100$, this gives: "
   ]
  },
  {
   "cell_type": "code",
   "execution_count": 6,
   "id": "2b10253a",
   "metadata": {},
   "outputs": [
    {
     "name": "stdout",
     "output_type": "stream",
     "text": [
      "k is    1 ->  L2: 0.7071 & H1:   2.22\n",
      "k is   10 ->  L2: 0.7071 & H1:  22.21\n",
      "k is  100 ->  L2: 0.7071 & H1: 222.14\n"
     ]
    }
   ],
   "source": [
    "L2 = 1/np.sqrt(2)\n",
    "for k in (1, 10, 100):\n",
    "    H1 = k*np.pi/np.sqrt(2)\n",
    "    print(f\"k is {k:4d} ->  L2: {L2:6.4g} & H1: {H1:6.2f}\")"
   ]
  },
  {
   "cell_type": "markdown",
   "id": "415dcf71",
   "metadata": {},
   "source": [
    "The numerical equivalent is given below."
   ]
  },
  {
   "cell_type": "code",
   "execution_count": 7,
   "id": "37dab407",
   "metadata": {},
   "outputs": [
    {
     "name": "stdout",
     "output_type": "stream",
     "text": [
      "k is    1 ->  L2: 0.7071 & H1:   2.33\n",
      "k is   10 ->  L2: 0.7070 & H1:  22.22\n",
      "k is  100 ->  L2: 0.7013 & H1: 221.23\n"
     ]
    }
   ],
   "source": [
    "N = 1000\n",
    "\n",
    "mesh = df.UnitIntervalMesh(N)\n",
    "V = df.FunctionSpace(mesh, \"Lagrange\", 1)\n",
    "for k in (1, 10, 100):\n",
    "    psi = utils.to_expression(sp.sin(sp.pi*k*x))\n",
    "    u = df.interpolate(psi, V)\n",
    "    print(f\"k is {k:4d} ->  L2: {L2_norm(u):6.4f} & H1: {H1_norm(u):6.2f}\")"
   ]
  },
  {
   "cell_type": "markdown",
   "id": "8e6d78cb",
   "metadata": {},
   "source": [
    "The accuracy of the norms depends heavily on the mesh."
   ]
  },
  {
   "cell_type": "markdown",
   "id": "fbabea0b",
   "metadata": {},
   "source": [
    "## Exercise 3\n",
    "\n",
    "Using the piecewise function\n",
    "\n",
    "$$\n",
    "    \\psi(x) =\n",
    "    \\begin{cases}\n",
    "        10(x - 0.2) \\quad \\text{if  } 0.2 \\leq x < 0.3 \\\\\n",
    "        10(0.4 - x) \\quad \\text{if  } 0.3 \\leq x < 0.4 \\\\\n",
    "        0  \\quad\\quad\\quad\\quad\\quad\\quad  \\text{otherwise}\\\\\n",
    "    \\end{cases} .\n",
    "$$\n",
    "\n",
    "Implementation of general function below:"
   ]
  },
  {
   "cell_type": "code",
   "execution_count": 19,
   "id": "53034115",
   "metadata": {},
   "outputs": [
    {
     "data": {
      "image/png": "[encoded data removed]",
      "text/plain": [
       "<Figure size 900x250 with 1 Axes>"
      ]
     },
     "metadata": {},
     "output_type": "display_data"
    }
   ],
   "source": [
    "class Hat(df.UserExpression):\n",
    "    def __init__(self, h, x0=0.5, **args):\n",
    "        self.x0 = x0     # Location of peak\n",
    "        self.xl = x0 - h # Left side\n",
    "        self.xr = x0 + h # Right side\n",
    "        self.h = h\n",
    "        super().__init__(**args)\n",
    "    \n",
    "    def eval(self, values, x):\n",
    "        if self.xl <= x[0] < self.x0:\n",
    "            values[0] = (x[0] - self.xl)/self.h\n",
    "        elif self.x0 <= x[0] < self.xr:\n",
    "            values[0] = (self.xr - x[0])/self.h\n",
    "        else:\n",
    "            values[0] = 0\n",
    "            \n",
    "    def value_shape(self):\n",
    "        return ()\n",
    "    \n",
    "    def interpolate(self, N):\n",
    "        mesh = df.UnitIntervalMesh(N)\n",
    "        V = df.FunctionSpace(mesh, \"Lagrange\", 1)\n",
    "        return df.interpolate(self, V)\n",
    "    \n",
    "hat = Hat(0.1, x0=0.3)\n",
    "plt.figure(0, figsize=(9, 2.5))\n",
    "df.plot(hat.interpolate(350))\n",
    "plt.xlabel(f\"$x$\")\n",
    "plt.ylabel(f\"$u$\")\n",
    "plt.tight_layout()\n",
    "plt.show();"
   ]
  },
  {
   "cell_type": "markdown",
   "id": "0f28085b",
   "metadata": {},
   "source": [
    "The norms are then:"
   ]
  },
  {
   "cell_type": "code",
   "execution_count": 20,
   "id": "1d1563bf",
   "metadata": {},
   "outputs": [
    {
     "name": "stdout",
     "output_type": "stream",
     "text": [
      "N is   10 ->  L2: 0.2582 & H1: 4.4796\n",
      "N is  100 ->  L2: 0.2582 & H1: 4.4796\n",
      "N is 1000 ->  L2: 0.2582 & H1: 4.4796\n"
     ]
    }
   ],
   "source": [
    "for N in (10, 100, 1000):\n",
    "    u3 = hat.interpolate(N)\n",
    "    print(f\"N is {N:4d} ->  L2: {L2_norm(u3):6.5g} & H1: {H1_norm(u3):6.5g}\")"
   ]
  },
  {
   "cell_type": "markdown",
   "id": "8e08c92b",
   "metadata": {},
   "source": [
    "## Exercise 4\n",
    "\n",
    "\n",
    "The piecewise function from E3 is now positioned at $x_m$ with width $2 h$:\n",
    "\n",
    "$$\n",
    "    \\psi(x; x_m, h) =\n",
    "    \\begin{cases}\n",
    "        {(x - x_l)}/{h} \\quad \\text{if  } x_l \\leq x < x_m \\\\\n",
    "        {(x_r - x)}/{h} \\quad \\text{if  } x_m \\leq x < x_r \\\\\n",
    "        0  \\quad\\quad\\quad\\quad\\quad\\quad  \\text{otherwise}\\\\\n",
    "    \\end{cases} ,\n",
    "$$\n",
    "\n",
    "where $x_l = x_m - h$ and $x_l = x_m + h$.\n",
    "\n",
    "We can see that the function approaches the Dirac delta function in the limit $\\lim_{h \\to 0} \\psi(x; x_m, h) = \\delta (x - x_m)$."
   ]
  },
  {
   "cell_type": "code",
   "execution_count": 21,
   "id": "aa8720c0",
   "metadata": {},
   "outputs": [
    {
     "data": {
      "image/png": "[encoded data removed]",
      "text/plain": [
       "<Figure size 900x750 with 3 Axes>"
      ]
     },
     "metadata": {},
     "output_type": "display_data"
    }
   ],
   "source": [
    "N = 250\n",
    "plt.figure(1, figsize=(9, 7.5))\n",
    "for i, h in enumerate([0.1, 0.01, 0.001]):\n",
    "    plt.subplot(311 + i, xlabel=r\"$x$\", ylabel=r\"$\\psi(x; h=%g)$\"%h)\n",
    "    df.plot(Hat(h).interpolate(N))\n",
    "plt.tight_layout()\n",
    "plt.show();"
   ]
  },
  {
   "cell_type": "markdown",
   "id": "96d5dc88",
   "metadata": {},
   "source": [
    "The $L^2$ norm can be computed as\n",
    "\n",
    "$$\n",
    "    ||\\psi(x; x_m, h)||_{L^2} = \\left(\\int_{x_m - h}^{x_m + h}\\psi(x; x_m, h)^2 \\,\\mathrm{d}x\\right)^{1/2}\n",
    "        = \\left(\\int_{-h}^{h}\\psi(x; 0, h)^2 \\,\\mathrm{d}x\\right)^{1/2}\n",
    "        = \\left(2\\int_{0}^{h}\\psi(x; 0, h)^2 \\,\\mathrm{d}x\\right)^{1/2},\n",
    "$$\n",
    "\n",
    "where I have shifted the integral by $x_m$ and used the symmetry of the cone. The $L^2$ norm is then\n",
    "\n",
    "$$\n",
    "    ||\\psi(x; x_m, h)||_{L^2} = \\left(\\frac{2}{h^2}\\int_{0}^{h}(h - x)^2 \\,\\mathrm{d}x\\right)^{1/2}\n",
    "                = \\left(\\frac{2}{h^2}\\left[\\frac{x^3}{3} - h x^2 + h^2 x\\right]_{0}^{h}\\right)^{1/2}\n",
    "                = \\sqrt{\\frac{2 h}{3}}.\n",
    "$$\n",
    "\n",
    "Comparing with numerical results:"
   ]
  },
  {
   "cell_type": "code",
   "execution_count": 22,
   "id": "8528aa0f",
   "metadata": {},
   "outputs": [
    {
     "name": "stdout",
     "output_type": "stream",
     "text": [
      "h is 0.1\n",
      "\tcomputed:     0.2582\n",
      "\tanalytical:   0.2582\n",
      "h is 0.01\n",
      "\tcomputed:    0.08165\n",
      "\tanalytical:  0.08165\n",
      "h is 0.001\n",
      "\tcomputed:    0.03651\n",
      "\tanalytical:  0.02582\n"
     ]
    }
   ],
   "source": [
    "N = 500\n",
    "for i, h in enumerate([0.1, 0.01, 0.001]):\n",
    "    u4 = Hat(h).interpolate(N)\n",
    "    print(f\"h is {h:g}\\n\\tcomputed:   {L2_norm(u4):8.4g}\\n\\tanalytical: {np.sqrt(2*h/3):8.4g}\")"
   ]
  },
  {
   "cell_type": "markdown",
   "id": "2699e596",
   "metadata": {},
   "source": [
    "The derivative of the function is\n",
    "\n",
    "\n",
    "$$\n",
    "    \\frac{\\mathrm{d}}{\\mathrm{d} x}\\psi(x; x_m, h) =\n",
    "    \\begin{cases}\n",
    "        1/{h} \\ \\quad \\text{if  } x_l \\leq x < x_m \\\\\n",
    "        -1/{h} \\quad \\text{if  } x_m \\leq x < x_r \\\\\n",
    "        0  \\quad\\quad\\quad \\text{otherwise}\\\\\n",
    "    \\end{cases} ,\n",
    "$$\n",
    "\n",
    "The integral over the derivative squared is \n",
    "\n",
    "$$\n",
    "   \\int_{x_m - h}^{x_m + h}\\left|\\frac{\\mathrm{d}}{\\mathrm{d} x}\\psi(x; x_m, h)\\right|^2 \\,\\mathrm{d}x\n",
    "        = \\int_{-h}^{h}\\psi(x; 0, h)^2 \\,\\mathrm{d}x\n",
    "        = \\int_{-h}^{h}\\frac{1}{h^2} \\,\\mathrm{d}x = \\frac{2}{h} .\n",
    "$$\n",
    "\n",
    "\n",
    "The $H_1$ is then given by\n",
    "\n",
    "$$\n",
    "    ||\\psi(x; x_m, h)||_{2, 1} = \\left(||\\psi(x; x_m, h)||_{2}^2 \n",
    "    + \\int_{x_m - h}^{x_m + h}\\left|\\frac{\\mathrm{d}}{\\mathrm{d} x}\\psi(x; x_m, h)\\right|^2\\,\\mathrm{d}x\\right)^{1/2}\n",
    "    = \\left(\\frac{2 h}{3} + \\frac{2}{h}\\right)^{1/2}\n",
    "$$"
   ]
  },
  {
   "cell_type": "code",
   "execution_count": 26,
   "id": "348e9fbc",
   "metadata": {},
   "outputs": [
    {
     "name": "stdout",
     "output_type": "stream",
     "text": [
      "h is 0.1\n",
      "\tcomputed:       4.48\n",
      "\tanalytical:     4.48\n",
      "h is 0.01\n",
      "\tcomputed:      14.14\n",
      "\tanalytical:    14.14\n",
      "h is 0.001\n",
      "\tcomputed:      44.72\n",
      "\tanalytical:    44.72\n"
     ]
    }
   ],
   "source": [
    "N = 1000\n",
    "for i, h in enumerate([0.1, 0.01, 0.001]):\n",
    "    u4 = Hat(h).interpolate(N)\n",
    "    print(f\"h is {h:g}\\n\\tcomputed:   {H1_norm(u4):8.4g}\\n\\tanalytical: {np.sqrt(2*h/3 + 2/h):8.4g}\")"
   ]
  },
  {
   "cell_type": "markdown",
   "id": "790cc4c4",
   "metadata": {},
   "source": [
    "The $H^{-1}$ of $f$ is given by\n",
    "\n",
    "$$\n",
    "    ||f||_{H^{-1}} = ||\\nabla^{-1} f||_{L^2} .\n",
    "$$\n",
    "\n",
    "The solution can be found using the Poisson problem\n",
    "\n",
    "$$\n",
    "    -\\Delta u = f\n",
    "$$\n",
    "\n",
    "with homogenious Dirichlet boundary conditions. We then have that $-\\nabla u = \\nabla^{-1}f$, which leads to final expression for the $H^{-1}$ norm:\n",
    "\n",
    "$$\n",
    "    ||f||_{H^{-1}} = || \\nabla u||_{L^2} =  |u|_{H^1}.\n",
    "$$\n",
    "\n",
    "Implementation of the $H^{-1}$ norm:"
   ]
  },
  {
   "cell_type": "code",
   "execution_count": 27,
   "id": "a6ca11ec",
   "metadata": {},
   "outputs": [],
   "source": [
    "def Hinv_norm(f, order=1, N=32, space=\"Lagrange\"):\n",
    "    mesh = df.UnitIntervalMesh(N)\n",
    "    V = df.FunctionSpace(mesh, space, order)\n",
    "    psi = df.TrialFunction(V)\n",
    "    phi = df.TestFunction(V)\n",
    "    u = df.Function(V)\n",
    "    boundary = lambda x, on_boundary: on_boundary\n",
    "    \n",
    "    bc = df.DirichletBC(V, 0, boundary)\n",
    "    a = df.inner(df.grad(psi), df.grad(phi))*df.dx\n",
    "    L = f*phi*df.dx\n",
    "    df.solve(a == L, u, bc)\n",
    "    \n",
    "    # norm\n",
    "    g =  df.inner(df.grad(u), df.grad(u))\n",
    "    I = df.assemble(g*df.dx)\n",
    "    return df.sqrt(I)"
   ]
  },
  {
   "cell_type": "markdown",
   "id": "6a4d85dd",
   "metadata": {},
   "source": [
    "First just testing with $f = \\sin(\\pi k x)$. We then have that $u(x) = \\frac{\\sin(k\\pi x)}{(k \\pi)^2}$, which means that  $u_x(x) = \\frac{\\cos(k\\pi x)}{k \\pi}$. The $H^{-1}$ norm should therefore be $\\frac{1}{\\sqrt{2}k \\pi}$."
   ]
  },
  {
   "cell_type": "code",
   "execution_count": 28,
   "id": "051e0981",
   "metadata": {},
   "outputs": [
    {
     "name": "stdout",
     "output_type": "stream",
     "text": [
      "k is    1 ->  H(inv):    0.2251 (0.2251)\n",
      "k is   10 ->  H(inv):   0.02251 (0.02251)\n",
      "k is  100 ->  H(inv):  0.002242 (0.002251)\n"
     ]
    }
   ],
   "source": [
    "for k in (1, 10, 100):\n",
    "    psi = utils.to_expression(sp.sin(sp.pi*k*x))\n",
    "    exact = 1/(k*np.pi*np.sqrt(2))\n",
    "    print(f\"k is {k:4d} ->  H(inv): {Hinv_norm(psi, order=1, N=1000):9.4g} ({exact:.4g})\")"
   ]
  },
  {
   "cell_type": "markdown",
   "id": "d91712c9",
   "metadata": {},
   "source": [
    "Finally, the $H^{-1}$ of $\\psi(x; x_m, h)$ is:"
   ]
  },
  {
   "cell_type": "code",
   "execution_count": 29,
   "id": "49ecd966",
   "metadata": {},
   "outputs": [
    {
     "name": "stdout",
     "output_type": "stream",
     "text": [
      "h is   0.1 ->  H(inv):  0.047609.\n",
      "h is  0.01 ->  H(inv):  0.004977.\n",
      "h is 0.001 ->  H(inv):  0.000500.\n"
     ]
    }
   ],
   "source": [
    "N = 1000\n",
    "for h in [0.1, 0.01, 0.001]:\n",
    "    print(f\"h is {h:5.1g} ->  H(inv): {Hinv_norm(Hat(h), order=1, N=N):9.6f}.\")"
   ]
  },
  {
   "cell_type": "markdown",
   "id": "6b5e4f78",
   "metadata": {},
   "source": [
    "## Exercise 5\n",
    "\n",
    "Considering the Hilbert function space $H^1(\\Omega)$, with the norm defined as \n",
    "\n",
    "$$\n",
    "    ||u||_{H^1(\\Omega)} = \\left( \\int_\\Omega |u|^2 + |\\nabla u|^2 \\,\\mathrm{d} x \\right)^{1/2} \n",
    "    = \\left(||u||_{L^2 (\\Omega)}^2 + |u|_{H^1(\\Omega)}^2\\right)^{1/2}.\n",
    "$$\n",
    "\n",
    "The second expression uses the corresponding semi-norm $|u|_{H^1(\\Omega)}$ and the $L^2(\\Omega)$ norm.\n",
    "\n",
    "\n",
    "Introducing the subspace $H^1_0(\\Omega)$, fulfilling homogeneous Dirichlet boundary conditions. Poincaré's inequality states that there exists a positive constant $C$ such that\n",
    "\n",
    "$$\n",
    "    ||u||_{L^2(\\Omega)} \\leq C ||\\nabla u||_{L^2(\\Omega)} = C  |u|_{H^1(\\Omega)},\n",
    "$$\n",
    "\n",
    "for all functions in $H^1_0(\\Omega)$.\n",
    "\n",
    "Since all norms and $C$ must be positive, we may square the inequality, yielding \n",
    "$||u||_{L^2(\\Omega)}^2 \\leq C^2 |u|_{H^1}^2$.\n",
    "This further means that\n",
    "\n",
    "$$\n",
    "    ||u||_{H^1(\\Omega)}^2 \\leq (C^2 + 1)|u|_{H^1}^2 .\n",
    "$$\n",
    "\n",
    "Also, since $||u||_{L^2 (\\Omega)}^2 \\geq 0$, then we must have that \n",
    "$||u||_{H^1(\\Omega)} \\geq |u|_{H^1}$.\n",
    "\n",
    "\n",
    "Using this, we can see that the $H^1$ norm and semi-norm are equivalent, as \n",
    "\n",
    "$$\n",
    "    |u|_{H^1} \\leq ||u||_{H^1(\\Omega)} \\leq \\sqrt{C^2 + 1}|u|_{H^1},\n",
    "$$\n",
    "\n",
    "for all functions $u$ in $H^1_0$."
   ]
  },
  {
   "cell_type": "markdown",
   "id": "5e0fd797",
   "metadata": {},
   "source": [
    "     "
   ]
  }
 ],
 "metadata": {
  "kernelspec": {
   "display_name": "Python 3 (ipykernel)",
   "language": "python",
   "name": "python3"
  },
  "language_info": {
   "codemirror_mode": {
    "name": "ipython",
    "version": 3
   },
   "file_extension": ".py",
   "mimetype": "text/x-python",
   "name": "python",
   "nbconvert_exporter": "python",
   "pygments_lexer": "ipython3",
   "version": "3.9.6"
  }
 },
 "nbformat": 4,
 "nbformat_minor": 5
}
